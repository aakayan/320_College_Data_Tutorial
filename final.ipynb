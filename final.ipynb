{
 "metadata": {
  "language_info": {
   "codemirror_mode": {
    "name": "ipython",
    "version": 3
   },
   "file_extension": ".py",
   "mimetype": "text/x-python",
   "name": "python",
   "nbconvert_exporter": "python",
   "pygments_lexer": "ipython3",
   "version": "3.8.5"
  },
  "orig_nbformat": 2,
  "kernelspec": {
   "name": "python3",
   "display_name": "Python 3.8.5 64-bit ('base': conda)"
  },
  "metadata": {
   "interpreter": {
    "hash": "ac59ebe37160ed0dfa835113d9b8498d9f09ceb179beaac4002f036b9467c963"
   }
  }
 },
 "nbformat": 4,
 "nbformat_minor": 2,
 "cells": [
  {
   "source": [
    "Welcome to our tutorial. We're doing data science stuff.\n",
    "\n",
    "In this tutorial, we're going to look at college stuff. We've put some data on our github, and to start, we're going to read the data into a dataframe and then take a look at it"
   ],
   "cell_type": "markdown",
   "metadata": {}
  },
  {
   "cell_type": "code",
   "execution_count": 26,
   "metadata": {},
   "outputs": [
    {
     "output_type": "execute_result",
     "data": {
      "text/plain": [
       "   Unnamed: 0  UNITID    OPEID  OPEID6  ... INEXPFTE AVGFACSAL  PFTFAC FEDSCHCD\n",
       "0           0  100654   100200    1002  ...   5384.0    7101.0  0.7411   001002\n",
       "1           1  100663   105200    1052  ...  16454.0   10717.0  0.7766   001052\n",
       "2           2  100690  2503400   25034  ...   4206.0    4292.0  1.0000   016885\n",
       "3           3  100706   105500    1055  ...   9242.0    9442.0  0.6544   001055\n",
       "4           4  100724   100500    1005  ...   8527.0    7754.0  0.5826   001005\n",
       "\n",
       "[5 rows x 113 columns]"
      ],
      "text/html": "<div>\n<style scoped>\n    .dataframe tbody tr th:only-of-type {\n        vertical-align: middle;\n    }\n\n    .dataframe tbody tr th {\n        vertical-align: top;\n    }\n\n    .dataframe thead th {\n        text-align: right;\n    }\n</style>\n<table border=\"1\" class=\"dataframe\">\n  <thead>\n    <tr style=\"text-align: right;\">\n      <th></th>\n      <th>Unnamed: 0</th>\n      <th>UNITID</th>\n      <th>OPEID</th>\n      <th>OPEID6</th>\n      <th>INSTNM</th>\n      <th>CITY</th>\n      <th>STABBR</th>\n      <th>ZIP</th>\n      <th>ACCREDAGENCY</th>\n      <th>INSTURL</th>\n      <th>NPCURL</th>\n      <th>SCH_DEG</th>\n      <th>HCM2</th>\n      <th>ST_FIPS</th>\n      <th>REGION</th>\n      <th>LOCALE</th>\n      <th>LOCALE2</th>\n      <th>LATITUDE</th>\n      <th>LONGITUDE</th>\n      <th>HBCU</th>\n      <th>PBI</th>\n      <th>ANNHI</th>\n      <th>TRIBAL</th>\n      <th>AANAPII</th>\n      <th>HSI</th>\n      <th>NANTI</th>\n      <th>MENONLY</th>\n      <th>WOMENONLY</th>\n      <th>RELAFFIL</th>\n      <th>ADM_RATE</th>\n      <th>ADM_RATE_ALL</th>\n      <th>SATVR25</th>\n      <th>SATVR75</th>\n      <th>SATMT25</th>\n      <th>SATMT75</th>\n      <th>SATWR25</th>\n      <th>SATWR75</th>\n      <th>SATVRMID</th>\n      <th>SATMTMID</th>\n      <th>SATWRMID</th>\n      <th>...</th>\n      <th>PCIP29</th>\n      <th>PCIP30</th>\n      <th>PCIP31</th>\n      <th>PCIP38</th>\n      <th>PCIP39</th>\n      <th>PCIP40</th>\n      <th>PCIP41</th>\n      <th>PCIP42</th>\n      <th>PCIP43</th>\n      <th>PCIP44</th>\n      <th>PCIP45</th>\n      <th>PCIP46</th>\n      <th>PCIP47</th>\n      <th>PCIP48</th>\n      <th>PCIP49</th>\n      <th>PCIP50</th>\n      <th>PCIP51</th>\n      <th>PCIP52</th>\n      <th>PCIP54</th>\n      <th>UGDS</th>\n      <th>UGDS_WHITE</th>\n      <th>UGDS_BLACK</th>\n      <th>UGDS_HISP</th>\n      <th>UGDS_ASIAN</th>\n      <th>UGDS_AIAN</th>\n      <th>UGDS_NHPI</th>\n      <th>UGDS_2MOR</th>\n      <th>UGDS_NRA</th>\n      <th>UGDS_UNKN</th>\n      <th>NUM4_PRIV</th>\n      <th>COSTT4_A</th>\n      <th>COSTT4_P</th>\n      <th>TUITIONFEE_IN</th>\n      <th>TUITIONFEE_OUT</th>\n      <th>TUITIONFEE_PROG</th>\n      <th>TUITFTE</th>\n      <th>INEXPFTE</th>\n      <th>AVGFACSAL</th>\n      <th>PFTFAC</th>\n      <th>FEDSCHCD</th>\n    </tr>\n  </thead>\n  <tbody>\n    <tr>\n      <th>0</th>\n      <td>0</td>\n      <td>100654</td>\n      <td>100200</td>\n      <td>1002</td>\n      <td>Alabama A &amp; M University</td>\n      <td>Normal</td>\n      <td>AL</td>\n      <td>35762</td>\n      <td>Southern Association of Colleges and Schools C...</td>\n      <td>www.aamu.edu/</td>\n      <td>www.aamu.edu/admissions-aid/tuition-fees/net-p...</td>\n      <td>3.0</td>\n      <td>0</td>\n      <td>1</td>\n      <td>5</td>\n      <td>12.0</td>\n      <td>NaN</td>\n      <td>34.783368</td>\n      <td>-86.568502</td>\n      <td>1.0</td>\n      <td>0.0</td>\n      <td>0.0</td>\n      <td>0.0</td>\n      <td>0.0</td>\n      <td>0.0</td>\n      <td>0.0</td>\n      <td>0.0</td>\n      <td>0.0</td>\n      <td>NaN</td>\n      <td>0.8986</td>\n      <td>0.8986</td>\n      <td>430.0</td>\n      <td>520.0</td>\n      <td>420.0</td>\n      <td>510.0</td>\n      <td>370.0</td>\n      <td>457.0</td>\n      <td>475.0</td>\n      <td>465.0</td>\n      <td>414.0</td>\n      <td>...</td>\n      <td>0.0</td>\n      <td>0.0000</td>\n      <td>0.0020</td>\n      <td>0.0000</td>\n      <td>0.0000</td>\n      <td>0.0355</td>\n      <td>0.0000</td>\n      <td>0.0631</td>\n      <td>0.0572</td>\n      <td>0.0493</td>\n      <td>0.0355</td>\n      <td>0.0</td>\n      <td>0.0</td>\n      <td>0.0</td>\n      <td>0.0</td>\n      <td>0.0237</td>\n      <td>0.0000</td>\n      <td>0.1578</td>\n      <td>0.0000</td>\n      <td>4990.0</td>\n      <td>0.0186</td>\n      <td>0.9120</td>\n      <td>0.0088</td>\n      <td>0.0018</td>\n      <td>0.0022</td>\n      <td>0.0016</td>\n      <td>0.0118</td>\n      <td>0.0070</td>\n      <td>0.0361</td>\n      <td>NaN</td>\n      <td>22489.0</td>\n      <td>NaN</td>\n      <td>9744.0</td>\n      <td>18354.0</td>\n      <td>NaN</td>\n      <td>7413.0</td>\n      <td>5384.0</td>\n      <td>7101.0</td>\n      <td>0.7411</td>\n      <td>001002</td>\n    </tr>\n    <tr>\n      <th>1</th>\n      <td>1</td>\n      <td>100663</td>\n      <td>105200</td>\n      <td>1052</td>\n      <td>University of Alabama at Birmingham</td>\n      <td>Birmingham</td>\n      <td>AL</td>\n      <td>35294-0110</td>\n      <td>Southern Association of Colleges and Schools C...</td>\n      <td>https://www.uab.edu</td>\n      <td>https://uab.studentaidcalculator.com/survey.aspx</td>\n      <td>3.0</td>\n      <td>0</td>\n      <td>1</td>\n      <td>5</td>\n      <td>12.0</td>\n      <td>NaN</td>\n      <td>33.505697</td>\n      <td>-86.799345</td>\n      <td>0.0</td>\n      <td>0.0</td>\n      <td>0.0</td>\n      <td>0.0</td>\n      <td>0.0</td>\n      <td>0.0</td>\n      <td>0.0</td>\n      <td>0.0</td>\n      <td>0.0</td>\n      <td>NaN</td>\n      <td>0.9211</td>\n      <td>0.9211</td>\n      <td>490.0</td>\n      <td>620.0</td>\n      <td>490.0</td>\n      <td>620.0</td>\n      <td>NaN</td>\n      <td>NaN</td>\n      <td>555.0</td>\n      <td>555.0</td>\n      <td>NaN</td>\n      <td>...</td>\n      <td>0.0</td>\n      <td>0.0000</td>\n      <td>0.0000</td>\n      <td>0.0064</td>\n      <td>0.0000</td>\n      <td>0.0235</td>\n      <td>0.0008</td>\n      <td>0.0602</td>\n      <td>0.0267</td>\n      <td>0.0263</td>\n      <td>0.0315</td>\n      <td>0.0</td>\n      <td>0.0</td>\n      <td>0.0</td>\n      <td>0.0</td>\n      <td>0.0339</td>\n      <td>0.2255</td>\n      <td>0.1908</td>\n      <td>0.0100</td>\n      <td>13186.0</td>\n      <td>0.5717</td>\n      <td>0.2553</td>\n      <td>0.0334</td>\n      <td>0.0633</td>\n      <td>0.0034</td>\n      <td>0.0002</td>\n      <td>0.0457</td>\n      <td>0.0213</td>\n      <td>0.0058</td>\n      <td>NaN</td>\n      <td>24347.0</td>\n      <td>NaN</td>\n      <td>8568.0</td>\n      <td>19704.0</td>\n      <td>NaN</td>\n      <td>13177.0</td>\n      <td>16454.0</td>\n      <td>10717.0</td>\n      <td>0.7766</td>\n      <td>001052</td>\n    </tr>\n    <tr>\n      <th>2</th>\n      <td>2</td>\n      <td>100690</td>\n      <td>2503400</td>\n      <td>25034</td>\n      <td>Amridge University</td>\n      <td>Montgomery</td>\n      <td>AL</td>\n      <td>36117-3553</td>\n      <td>Southern Association of Colleges and Schools C...</td>\n      <td>www.amridgeuniversity.edu</td>\n      <td>www2.amridgeuniversity.edu:9091/</td>\n      <td>3.0</td>\n      <td>0</td>\n      <td>1</td>\n      <td>5</td>\n      <td>12.0</td>\n      <td>NaN</td>\n      <td>32.362609</td>\n      <td>-86.174010</td>\n      <td>0.0</td>\n      <td>1.0</td>\n      <td>0.0</td>\n      <td>0.0</td>\n      <td>0.0</td>\n      <td>0.0</td>\n      <td>0.0</td>\n      <td>0.0</td>\n      <td>0.0</td>\n      <td>74.0</td>\n      <td>NaN</td>\n      <td>NaN</td>\n      <td>NaN</td>\n      <td>NaN</td>\n      <td>NaN</td>\n      <td>NaN</td>\n      <td>NaN</td>\n      <td>NaN</td>\n      <td>NaN</td>\n      <td>NaN</td>\n      <td>NaN</td>\n      <td>...</td>\n      <td>0.0</td>\n      <td>0.0000</td>\n      <td>0.0000</td>\n      <td>0.0000</td>\n      <td>0.2154</td>\n      <td>0.0000</td>\n      <td>0.0000</td>\n      <td>0.0000</td>\n      <td>0.1077</td>\n      <td>0.0000</td>\n      <td>0.0000</td>\n      <td>0.0</td>\n      <td>0.0</td>\n      <td>0.0</td>\n      <td>0.0</td>\n      <td>0.0000</td>\n      <td>0.0000</td>\n      <td>0.4615</td>\n      <td>0.0000</td>\n      <td>351.0</td>\n      <td>0.2393</td>\n      <td>0.7151</td>\n      <td>0.0171</td>\n      <td>0.0057</td>\n      <td>0.0057</td>\n      <td>0.0000</td>\n      <td>0.0000</td>\n      <td>0.0000</td>\n      <td>0.0171</td>\n      <td>5.0</td>\n      <td>17680.0</td>\n      <td>NaN</td>\n      <td>6900.0</td>\n      <td>6900.0</td>\n      <td>NaN</td>\n      <td>14273.0</td>\n      <td>4206.0</td>\n      <td>4292.0</td>\n      <td>1.0000</td>\n      <td>016885</td>\n    </tr>\n    <tr>\n      <th>3</th>\n      <td>3</td>\n      <td>100706</td>\n      <td>105500</td>\n      <td>1055</td>\n      <td>University of Alabama in Huntsville</td>\n      <td>Huntsville</td>\n      <td>AL</td>\n      <td>35899</td>\n      <td>Southern Association of Colleges and Schools C...</td>\n      <td>www.uah.edu</td>\n      <td>finaid.uah.edu/</td>\n      <td>3.0</td>\n      <td>0</td>\n      <td>1</td>\n      <td>5</td>\n      <td>12.0</td>\n      <td>NaN</td>\n      <td>34.724557</td>\n      <td>-86.640449</td>\n      <td>0.0</td>\n      <td>0.0</td>\n      <td>0.0</td>\n      <td>0.0</td>\n      <td>0.0</td>\n      <td>0.0</td>\n      <td>0.0</td>\n      <td>0.0</td>\n      <td>0.0</td>\n      <td>NaN</td>\n      <td>0.8087</td>\n      <td>0.8087</td>\n      <td>560.0</td>\n      <td>700.0</td>\n      <td>450.0</td>\n      <td>680.0</td>\n      <td>NaN</td>\n      <td>NaN</td>\n      <td>630.0</td>\n      <td>565.0</td>\n      <td>NaN</td>\n      <td>...</td>\n      <td>0.0</td>\n      <td>0.0008</td>\n      <td>0.0210</td>\n      <td>0.0024</td>\n      <td>0.0000</td>\n      <td>0.0307</td>\n      <td>0.0000</td>\n      <td>0.0202</td>\n      <td>0.0000</td>\n      <td>0.0000</td>\n      <td>0.0242</td>\n      <td>0.0</td>\n      <td>0.0</td>\n      <td>0.0</td>\n      <td>0.0</td>\n      <td>0.0380</td>\n      <td>0.1543</td>\n      <td>0.2108</td>\n      <td>0.0105</td>\n      <td>7458.0</td>\n      <td>0.7167</td>\n      <td>0.0969</td>\n      <td>0.0528</td>\n      <td>0.0381</td>\n      <td>0.0095</td>\n      <td>0.0008</td>\n      <td>0.0296</td>\n      <td>0.0223</td>\n      <td>0.0333</td>\n      <td>NaN</td>\n      <td>23441.0</td>\n      <td>NaN</td>\n      <td>10714.0</td>\n      <td>22362.0</td>\n      <td>NaN</td>\n      <td>8677.0</td>\n      <td>9242.0</td>\n      <td>9442.0</td>\n      <td>0.6544</td>\n      <td>001055</td>\n    </tr>\n    <tr>\n      <th>4</th>\n      <td>4</td>\n      <td>100724</td>\n      <td>100500</td>\n      <td>1005</td>\n      <td>Alabama State University</td>\n      <td>Montgomery</td>\n      <td>AL</td>\n      <td>36104-0271</td>\n      <td>Southern Association of Colleges and Schools C...</td>\n      <td>www.alasu.edu</td>\n      <td>www.alasu.edu/cost-aid/tuition-costs/net-price...</td>\n      <td>3.0</td>\n      <td>0</td>\n      <td>1</td>\n      <td>5</td>\n      <td>12.0</td>\n      <td>NaN</td>\n      <td>32.364317</td>\n      <td>-86.295677</td>\n      <td>1.0</td>\n      <td>0.0</td>\n      <td>0.0</td>\n      <td>0.0</td>\n      <td>0.0</td>\n      <td>0.0</td>\n      <td>0.0</td>\n      <td>0.0</td>\n      <td>0.0</td>\n      <td>NaN</td>\n      <td>0.9774</td>\n      <td>0.9774</td>\n      <td>440.0</td>\n      <td>520.0</td>\n      <td>420.0</td>\n      <td>510.0</td>\n      <td>NaN</td>\n      <td>NaN</td>\n      <td>480.0</td>\n      <td>465.0</td>\n      <td>NaN</td>\n      <td>...</td>\n      <td>0.0</td>\n      <td>0.0200</td>\n      <td>0.0108</td>\n      <td>0.0000</td>\n      <td>0.0000</td>\n      <td>0.0231</td>\n      <td>0.0000</td>\n      <td>0.0600</td>\n      <td>0.0938</td>\n      <td>0.0646</td>\n      <td>0.0138</td>\n      <td>0.0</td>\n      <td>0.0</td>\n      <td>0.0</td>\n      <td>0.0</td>\n      <td>0.0585</td>\n      <td>0.1677</td>\n      <td>0.1062</td>\n      <td>0.0046</td>\n      <td>3903.0</td>\n      <td>0.0167</td>\n      <td>0.9352</td>\n      <td>0.0095</td>\n      <td>0.0041</td>\n      <td>0.0013</td>\n      <td>0.0005</td>\n      <td>0.0102</td>\n      <td>0.0102</td>\n      <td>0.0123</td>\n      <td>NaN</td>\n      <td>21476.0</td>\n      <td>NaN</td>\n      <td>11068.0</td>\n      <td>19396.0</td>\n      <td>NaN</td>\n      <td>10160.0</td>\n      <td>8527.0</td>\n      <td>7754.0</td>\n      <td>0.5826</td>\n      <td>001005</td>\n    </tr>\n  </tbody>\n</table>\n<p>5 rows × 113 columns</p>\n</div>"
     },
     "metadata": {},
     "execution_count": 26
    }
   ],
   "source": [
    "url = 'https://raw.githubusercontent.com/aakayan/320_College_Data_Tutorial/main/data.txt'\n",
    "df = pd.read_csv(url) # Read the data\n",
    "df.head() # View the data"
   ]
  },
  {
   "source": [
    "After reading and looking at the data, we see that 5 columns, namely [UG_NRA, UG_UNKN, UG_WHITENH, UG_BLACKNH, UG_API] have blank values. Let's start by getting rid of them."
   ],
   "cell_type": "markdown",
   "metadata": {}
  },
  {
   "cell_type": "code",
   "execution_count": null,
   "metadata": {},
   "outputs": [],
   "source": []
  }
 ]
}